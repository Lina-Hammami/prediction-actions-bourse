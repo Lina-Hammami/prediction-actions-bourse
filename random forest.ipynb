{
 "cells": [
  {
   "cell_type": "code",
   "execution_count": 1,
   "metadata": {
    "colab": {
     "base_uri": "https://localhost:8080/",
     "height": 40,
     "resources": {
      "http://localhost:8080/nbextensions/google.colab/files.js": {
       "data": "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",
       "headers": [
        [
         "content-type",
         "application/javascript"
        ]
       ],
       "ok": true,
       "status": 200,
       "status_text": ""
      }
     }
    },
    "id": "GXz3xG87HwL_",
    "outputId": "95d4c989-3548-428b-e754-1c08a39c7b46"
   },
   "outputs": [],
   "source": [
    "import pandas\n",
    "import numpy as np\n",
    "import io\n",
    "from math import sqrt\n",
    "from numpy import split\n",
    "from numpy import array\n",
    "from pandas import read_csv\n",
    "from sklearn.metrics import mean_squared_error\n",
    "from matplotlib import pyplot\n",
    "from tensorflow.keras.models import Sequential\n",
    "from tensorflow.keras.layers import Dense\n",
    "from tensorflow.keras.layers import Flatten\n",
    "from tensorflow.keras.layers import LSTM\n"
   ]
  },
  {
   "cell_type": "code",
   "execution_count": 2,
   "metadata": {
    "id": "pk74SzSvJnnN"
   },
   "outputs": [],
   "source": [
    "# load the new file\n",
    "datasett = read_csv('./FB_.csv', header=0)\n"
   ]
  },
  {
   "cell_type": "code",
   "execution_count": 3,
   "metadata": {
    "colab": {
     "base_uri": "https://localhost:8080/",
     "height": 191
    },
    "id": "RYFLyqBoX3LX",
    "outputId": "7e511396-548c-4adc-d7d6-7c7239f0338b"
   },
   "outputs": [
    {
     "data": {
      "text/html": [
       "<div>\n",
       "<style scoped>\n",
       "    .dataframe tbody tr th:only-of-type {\n",
       "        vertical-align: middle;\n",
       "    }\n",
       "\n",
       "    .dataframe tbody tr th {\n",
       "        vertical-align: top;\n",
       "    }\n",
       "\n",
       "    .dataframe thead th {\n",
       "        text-align: right;\n",
       "    }\n",
       "</style>\n",
       "<table border=\"1\" class=\"dataframe\">\n",
       "  <thead>\n",
       "    <tr style=\"text-align: right;\">\n",
       "      <th></th>\n",
       "      <th>Unnamed: 0</th>\n",
       "      <th>symbol</th>\n",
       "      <th>date</th>\n",
       "      <th>open</th>\n",
       "      <th>high</th>\n",
       "      <th>low</th>\n",
       "      <th>close</th>\n",
       "      <th>volume</th>\n",
       "      <th>adj_close</th>\n",
       "      <th>prev_day_diff</th>\n",
       "      <th>50_day_moving_avg</th>\n",
       "      <th>10_day_volatility</th>\n",
       "      <th>s&amp;p_index_open</th>\n",
       "      <th>s&amp;p_index_high</th>\n",
       "      <th>s&amp;p_index_low</th>\n",
       "      <th>s&amp;p_index_close</th>\n",
       "      <th>s&amp;p_index_volume</th>\n",
       "      <th>s&amp;p_index_adj_close</th>\n",
       "    </tr>\n",
       "  </thead>\n",
       "  <tbody>\n",
       "    <tr>\n",
       "      <th>0</th>\n",
       "      <td>0</td>\n",
       "      <td>FB</td>\n",
       "      <td>2012-05-18</td>\n",
       "      <td>0.020657</td>\n",
       "      <td>0.021838</td>\n",
       "      <td>0.018921</td>\n",
       "      <td>0.018783</td>\n",
       "      <td>573576400</td>\n",
       "      <td>0.018783</td>\n",
       "      <td>0.000000</td>\n",
       "      <td>38.230000</td>\n",
       "      <td>0.000000</td>\n",
       "      <td>1305.050049</td>\n",
       "      <td>1312.239990</td>\n",
       "      <td>1291.979980</td>\n",
       "      <td>1295.219971</td>\n",
       "      <td>4.512470e+09</td>\n",
       "      <td>1295.219971</td>\n",
       "    </tr>\n",
       "    <tr>\n",
       "      <th>1</th>\n",
       "      <td>1</td>\n",
       "      <td>FB</td>\n",
       "      <td>2012-05-21</td>\n",
       "      <td>0.017945</td>\n",
       "      <td>0.017791</td>\n",
       "      <td>0.016432</td>\n",
       "      <td>0.016720</td>\n",
       "      <td>168192700</td>\n",
       "      <td>0.016720</td>\n",
       "      <td>-4.200001</td>\n",
       "      <td>36.129999</td>\n",
       "      <td>2.100000</td>\n",
       "      <td>1295.729980</td>\n",
       "      <td>1316.390015</td>\n",
       "      <td>1295.729980</td>\n",
       "      <td>1315.989990</td>\n",
       "      <td>3.786750e+09</td>\n",
       "      <td>1315.989990</td>\n",
       "    </tr>\n",
       "    <tr>\n",
       "      <th>2</th>\n",
       "      <td>2</td>\n",
       "      <td>FB</td>\n",
       "      <td>2012-05-22</td>\n",
       "      <td>0.016020</td>\n",
       "      <td>0.016301</td>\n",
       "      <td>0.015406</td>\n",
       "      <td>0.015231</td>\n",
       "      <td>101786600</td>\n",
       "      <td>0.015231</td>\n",
       "      <td>-3.029999</td>\n",
       "      <td>34.419999</td>\n",
       "      <td>3.419999</td>\n",
       "      <td>1316.089966</td>\n",
       "      <td>1328.489990</td>\n",
       "      <td>1310.040039</td>\n",
       "      <td>1316.630005</td>\n",
       "      <td>4.123680e+09</td>\n",
       "      <td>1316.630005</td>\n",
       "    </tr>\n",
       "    <tr>\n",
       "      <th>3</th>\n",
       "      <td>3</td>\n",
       "      <td>FB</td>\n",
       "      <td>2012-05-23</td>\n",
       "      <td>0.015411</td>\n",
       "      <td>0.015772</td>\n",
       "      <td>0.015615</td>\n",
       "      <td>0.015722</td>\n",
       "      <td>73600000</td>\n",
       "      <td>0.015722</td>\n",
       "      <td>1.000000</td>\n",
       "      <td>33.814999</td>\n",
       "      <td>1.814999</td>\n",
       "      <td>1316.020020</td>\n",
       "      <td>1320.709961</td>\n",
       "      <td>1296.530029</td>\n",
       "      <td>1318.859985</td>\n",
       "      <td>4.108330e+09</td>\n",
       "      <td>1318.859985</td>\n",
       "    </tr>\n",
       "    <tr>\n",
       "      <th>4</th>\n",
       "      <td>4</td>\n",
       "      <td>FB</td>\n",
       "      <td>2012-05-24</td>\n",
       "      <td>0.016187</td>\n",
       "      <td>0.016116</td>\n",
       "      <td>0.015819</td>\n",
       "      <td>0.016228</td>\n",
       "      <td>50237200</td>\n",
       "      <td>0.016228</td>\n",
       "      <td>1.029999</td>\n",
       "      <td>33.657999</td>\n",
       "      <td>0.628000</td>\n",
       "      <td>1318.719971</td>\n",
       "      <td>1324.140015</td>\n",
       "      <td>1310.500000</td>\n",
       "      <td>1320.680054</td>\n",
       "      <td>3.937670e+09</td>\n",
       "      <td>1320.680054</td>\n",
       "    </tr>\n",
       "  </tbody>\n",
       "</table>\n",
       "</div>"
      ],
      "text/plain": [
       "   Unnamed: 0 symbol        date      open      high       low     close  \\\n",
       "0           0     FB  2012-05-18  0.020657  0.021838  0.018921  0.018783   \n",
       "1           1     FB  2012-05-21  0.017945  0.017791  0.016432  0.016720   \n",
       "2           2     FB  2012-05-22  0.016020  0.016301  0.015406  0.015231   \n",
       "3           3     FB  2012-05-23  0.015411  0.015772  0.015615  0.015722   \n",
       "4           4     FB  2012-05-24  0.016187  0.016116  0.015819  0.016228   \n",
       "\n",
       "      volume  adj_close  prev_day_diff  50_day_moving_avg  10_day_volatility  \\\n",
       "0  573576400   0.018783       0.000000          38.230000           0.000000   \n",
       "1  168192700   0.016720      -4.200001          36.129999           2.100000   \n",
       "2  101786600   0.015231      -3.029999          34.419999           3.419999   \n",
       "3   73600000   0.015722       1.000000          33.814999           1.814999   \n",
       "4   50237200   0.016228       1.029999          33.657999           0.628000   \n",
       "\n",
       "   s&p_index_open  s&p_index_high  s&p_index_low  s&p_index_close  \\\n",
       "0     1305.050049     1312.239990    1291.979980      1295.219971   \n",
       "1     1295.729980     1316.390015    1295.729980      1315.989990   \n",
       "2     1316.089966     1328.489990    1310.040039      1316.630005   \n",
       "3     1316.020020     1320.709961    1296.530029      1318.859985   \n",
       "4     1318.719971     1324.140015    1310.500000      1320.680054   \n",
       "\n",
       "   s&p_index_volume  s&p_index_adj_close  \n",
       "0      4.512470e+09          1295.219971  \n",
       "1      3.786750e+09          1315.989990  \n",
       "2      4.123680e+09          1316.630005  \n",
       "3      4.108330e+09          1318.859985  \n",
       "4      3.937670e+09          1320.680054  "
      ]
     },
     "execution_count": 3,
     "metadata": {},
     "output_type": "execute_result"
    }
   ],
   "source": [
    "datasett.head()"
   ]
  },
  {
   "cell_type": "code",
   "execution_count": 4,
   "metadata": {},
   "outputs": [],
   "source": [
    "dataset=datasett[['date','adj_close']]"
   ]
  },
  {
   "cell_type": "code",
   "execution_count": 5,
   "metadata": {},
   "outputs": [
    {
     "data": {
      "text/html": [
       "<div>\n",
       "<style scoped>\n",
       "    .dataframe tbody tr th:only-of-type {\n",
       "        vertical-align: middle;\n",
       "    }\n",
       "\n",
       "    .dataframe tbody tr th {\n",
       "        vertical-align: top;\n",
       "    }\n",
       "\n",
       "    .dataframe thead th {\n",
       "        text-align: right;\n",
       "    }\n",
       "</style>\n",
       "<table border=\"1\" class=\"dataframe\">\n",
       "  <thead>\n",
       "    <tr style=\"text-align: right;\">\n",
       "      <th></th>\n",
       "      <th>date</th>\n",
       "      <th>adj_close</th>\n",
       "    </tr>\n",
       "  </thead>\n",
       "  <tbody>\n",
       "    <tr>\n",
       "      <th>0</th>\n",
       "      <td>2012-05-18</td>\n",
       "      <td>0.018783</td>\n",
       "    </tr>\n",
       "    <tr>\n",
       "      <th>1</th>\n",
       "      <td>2012-05-21</td>\n",
       "      <td>0.016720</td>\n",
       "    </tr>\n",
       "    <tr>\n",
       "      <th>2</th>\n",
       "      <td>2012-05-22</td>\n",
       "      <td>0.015231</td>\n",
       "    </tr>\n",
       "    <tr>\n",
       "      <th>3</th>\n",
       "      <td>2012-05-23</td>\n",
       "      <td>0.015722</td>\n",
       "    </tr>\n",
       "    <tr>\n",
       "      <th>4</th>\n",
       "      <td>2012-05-24</td>\n",
       "      <td>0.016228</td>\n",
       "    </tr>\n",
       "  </tbody>\n",
       "</table>\n",
       "</div>"
      ],
      "text/plain": [
       "         date  adj_close\n",
       "0  2012-05-18   0.018783\n",
       "1  2012-05-21   0.016720\n",
       "2  2012-05-22   0.015231\n",
       "3  2012-05-23   0.015722\n",
       "4  2012-05-24   0.016228"
      ]
     },
     "execution_count": 5,
     "metadata": {},
     "output_type": "execute_result"
    }
   ],
   "source": [
    "dataset.head()"
   ]
  },
  {
   "cell_type": "code",
   "execution_count": 6,
   "metadata": {},
   "outputs": [
    {
     "data": {
      "text/plain": [
       "(956, 2)"
      ]
     },
     "execution_count": 6,
     "metadata": {},
     "output_type": "execute_result"
    }
   ],
   "source": [
    "dataset.shape"
   ]
  },
  {
   "cell_type": "code",
   "execution_count": 7,
   "metadata": {
    "colab": {
     "base_uri": "https://localhost:8080/",
     "height": 296
    },
    "id": "q60TcpWhICK4",
    "outputId": "25b337e2-fa38-4266-f5ad-995406e1a562"
   },
   "outputs": [
    {
     "data": {
      "image/png": "[encoded data removed]",
      "text/plain": [
       "<Figure size 432x288 with 1 Axes>"
      ]
     },
     "metadata": {
      "needs_background": "light"
     },
     "output_type": "display_data"
    }
   ],
   "source": [
    "import matplotlib.pyplot as plt\n",
    "from matplotlib import dates as mpl_dates\n",
    "from datetime import datetime, timedelta\n",
    "plt.plot_date(dataset['date'],dataset['adj_close'],linestyle='solid')\n",
    "plt.xlabel('date')\n",
    "plt.ylabel('close_value')\n",
    "plt.title('Stock market')\n",
    "plt.show()"
   ]
  },
  {
   "cell_type": "code",
   "execution_count": 8,
   "metadata": {
    "id": "iitbcpPnMLf5"
   },
   "outputs": [],
   "source": [
    "# split into train and test\n",
    "from sklearn.model_selection import train_test_split\n",
    "train, test = train_test_split(dataset.values)"
   ]
  },
  {
   "cell_type": "code",
   "execution_count": 9,
   "metadata": {
    "id": "WYBRZohyJpbK"
   },
   "outputs": [],
   "source": [
    "# we will create a dataset where X are the real values and y are the next day values (the forecasting to be learned by the model)\n",
    "def create_dataset(dataset, look_back=1):\n",
    "\tX, y = [], []\n",
    "\tfor i in range(len(dataset)-look_back-1):\n",
    "\t\ta = dataset[i:(i+look_back), 1]\n",
    "\t\tX.append(a)\n",
    "\t\ty.append(dataset[i + look_back, 1])\n",
    "\treturn array(X), array(y)"
   ]
  },
  {
   "cell_type": "code",
   "execution_count": 10,
   "metadata": {
    "id": "rPnPH6caLRox"
   },
   "outputs": [],
   "source": [
    "# Create a training & testing data where X are the real values and y are the next day values\n",
    "X_train, y_train = create_dataset(train)\n",
    "X_test, y_test = create_dataset(test)"
   ]
  },
  {
   "cell_type": "code",
   "execution_count": 11,
   "metadata": {},
   "outputs": [],
   "source": [
    "X_train = np.asarray(X_train).astype(np.float32)\n",
    "y_train = np.asarray(y_train).astype(np.float32)"
   ]
  },
  {
   "cell_type": "code",
   "execution_count": 12,
   "metadata": {},
   "outputs": [],
   "source": [
    "X_test = np.asarray(X_test).astype(np.float32)\n",
    "y_test = np.asarray(y_test).astype(np.float32)"
   ]
  },
  {
   "cell_type": "code",
   "execution_count": 14,
   "metadata": {},
   "outputs": [],
   "source": [
    "from sklearn.ensemble import RandomForestRegressor\n",
    "tree=RandomForestRegressor(n_estimators=100).fit(X_train, y_train)"
   ]
  },
  {
   "cell_type": "code",
   "execution_count": 15,
   "metadata": {
    "colab": {
     "base_uri": "https://localhost:8080/",
     "height": 1000
    },
    "id": "6bR9py2TMTaC",
    "outputId": "00ff81fc-078e-4544-a714-753f9e87fba6"
   },
   "outputs": [
    {
     "data": {
      "text/plain": [
       "array([0.04485282, 0.0172114 , 0.01661503, 0.01806923, 0.03006539,\n",
       "       0.02987258, 0.02368598, 0.02739783, 0.04024643, 0.03509889,\n",
       "       0.03521779, 0.02351259, 0.01983857, 0.02122118, 0.03862935,\n",
       "       0.02060837, 0.03537412, 0.0344729 , 0.04312309, 0.03651907,\n",
       "       0.01618857, 0.04037642, 0.03676239, 0.02985737, 0.02275842,\n",
       "       0.03702608, 0.02867226, 0.03099713, 0.03246744, 0.02829954,\n",
       "       0.04149751, 0.03940155, 0.01471516, 0.03809748, 0.03066961,\n",
       "       0.0349795 , 0.02601462, 0.03648136, 0.03219397, 0.03020355,\n",
       "       0.02398538, 0.02719354, 0.02929451, 0.0266496 , 0.01578431,\n",
       "       0.04051316, 0.01980088, 0.02596215, 0.01822341, 0.02628902,\n",
       "       0.04962505, 0.01791432, 0.01762582, 0.02613967, 0.02577695,\n",
       "       0.02683959, 0.04142917, 0.01706532, 0.04485282, 0.01829175,\n",
       "       0.03226762, 0.0331546 , 0.03717062, 0.01914576, 0.03665887,\n",
       "       0.03040302, 0.03048399, 0.04485527, 0.02613967, 0.03749961,\n",
       "       0.0351235 , 0.03069461, 0.03876092, 0.01980088, 0.03119129,\n",
       "       0.02970034, 0.02513757, 0.03884518, 0.02617214, 0.03844083,\n",
       "       0.01178066, 0.02122118, 0.02215498, 0.02979551, 0.03782767,\n",
       "       0.03683471, 0.03017834, 0.0176693 , 0.01885464, 0.02715478,\n",
       "       0.02298074, 0.03889446, 0.02386347, 0.04297402, 0.02844021,\n",
       "       0.02233353, 0.03666074, 0.02566596, 0.02044475, 0.01453902,\n",
       "       0.02370956, 0.03338119, 0.02867009, 0.03007077, 0.03462084,\n",
       "       0.04304418, 0.02155513, 0.0153804 , 0.01621024, 0.01792041,\n",
       "       0.02416801, 0.01305686, 0.02932006, 0.01774354, 0.03701829,\n",
       "       0.02858721, 0.03629916, 0.02628902, 0.02265789, 0.04312083,\n",
       "       0.04437251, 0.0279681 , 0.03912086, 0.02276382, 0.03849149,\n",
       "       0.03304764, 0.03040297, 0.03466471, 0.01493197, 0.01409398,\n",
       "       0.03555567, 0.03939325, 0.0258264 , 0.02764855, 0.03801931,\n",
       "       0.01287286, 0.02903898, 0.04243112, 0.01681161, 0.04292592,\n",
       "       0.03578462, 0.01807282, 0.0327129 , 0.04285881, 0.01866648,\n",
       "       0.01948845, 0.04292592, 0.0343482 , 0.03099713, 0.01667718,\n",
       "       0.04492691, 0.03180649, 0.03281927, 0.03172309, 0.02243454,\n",
       "       0.03180013, 0.01807022, 0.0344729 , 0.02863981, 0.02542151,\n",
       "       0.04024643, 0.02096108, 0.02820619, 0.02323942, 0.02526556,\n",
       "       0.03884518, 0.02564825, 0.0239705 , 0.03377007, 0.01951607,\n",
       "       0.02572155, 0.01118185, 0.02680054, 0.03028899, 0.0309676 ,\n",
       "       0.01802669, 0.03654449, 0.03258644, 0.03942056, 0.03410127,\n",
       "       0.04618552, 0.04096709, 0.0372515 , 0.03849149, 0.04531932,\n",
       "       0.02594663, 0.03429451, 0.03809748, 0.03466471, 0.04285881,\n",
       "       0.02985737, 0.03198506, 0.04332349, 0.02966929, 0.03980256,\n",
       "       0.04542437, 0.04268984, 0.02592565, 0.02346213, 0.03813562,\n",
       "       0.03020355, 0.03825459, 0.03466056, 0.03570218, 0.0354351 ,\n",
       "       0.03139887, 0.02820619, 0.03580698, 0.01639419, 0.04166299,\n",
       "       0.0343482 , 0.01480998, 0.04411899, 0.01979895, 0.02791956,\n",
       "       0.01864447, 0.03448902, 0.04099278, 0.03351007, 0.03537879,\n",
       "       0.03850347, 0.03394575, 0.04040015, 0.03302042, 0.03007077,\n",
       "       0.03407955, 0.03994058, 0.02914398, 0.04259792, 0.02733691,\n",
       "       0.01848646, 0.04656826, 0.01717742, 0.01729423, 0.02683959,\n",
       "       0.02188014, 0.01625013])"
      ]
     },
     "execution_count": 15,
     "metadata": {},
     "output_type": "execute_result"
    }
   ],
   "source": [
    "prediction = tree.predict(X_test)\n",
    "prediction"
   ]
  },
  {
   "cell_type": "code",
   "execution_count": 16,
   "metadata": {
    "id": "JM0RwxR9RBJe"
   },
   "outputs": [],
   "source": [
    "from sklearn.metrics import mean_squared_error\n",
    "import math"
   ]
  },
  {
   "cell_type": "code",
   "execution_count": 17,
   "metadata": {
    "colab": {
     "base_uri": "https://localhost:8080/",
     "height": 33
    },
    "id": "83T3TeVmNaKy",
    "outputId": "58c278d4-948b-46ff-f633-a04428a46eb7"
   },
   "outputs": [
    {
     "data": {
      "text/plain": [
       "0.01732173863212222"
      ]
     },
     "execution_count": 17,
     "metadata": {},
     "output_type": "execute_result"
    }
   ],
   "source": [
    "# Get the root mean squared error\n",
    "math.sqrt(mean_squared_error(y_test, prediction))"
   ]
  },
  {
   "cell_type": "code",
   "execution_count": 18,
   "metadata": {
    "colab": {
     "base_uri": "https://localhost:8080/",
     "height": 278
    },
    "id": "2vxD_FiCNqeW",
    "outputId": "320ada9a-09ac-4d7e-9054-bc7d35200fb5"
   },
   "outputs": [
    {
     "data": {
      "image/png": "[encoded data removed]",
      "text/plain": [
       "<Figure size 432x288 with 1 Axes>"
      ]
     },
     "metadata": {
      "needs_background": "light"
     },
     "output_type": "display_data"
    }
   ],
   "source": [
    "days = ['mon', 'tue', 'wed', 'thr', 'fri', 'sat' , 'sun']\n",
    "plt.xlabel('days')\n",
    "pyplot.plot(y_test,)\n",
    "pyplot.plot(prediction)\n",
    "pyplot.show()"
   ]
  }
 ],
 "metadata": {
  "colab": {
   "name": "Copie de New_LSTM",
   "provenance": []
  },
  "kernelspec": {
   "display_name": "Python 3",
   "language": "python",
   "name": "python3"
  },
  "language_info": {
   "codemirror_mode": {
    "name": "ipython",
    "version": 3
   },
   "file_extension": ".py",
   "mimetype": "text/x-python",
   "name": "python",
   "nbconvert_exporter": "python",
   "pygments_lexer": "ipython3",
   "version": "3.8.3"
  }
 },
 "nbformat": 4,
 "nbformat_minor": 1
}
